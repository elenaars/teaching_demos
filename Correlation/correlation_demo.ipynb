{
 "cells": [
  {
   "cell_type": "markdown",
   "id": "5f25e9ba",
   "metadata": {},
   "source": []
  },
  {
   "cell_type": "code",
   "execution_count": null,
   "id": "86ffa876",
   "metadata": {},
   "outputs": [],
   "source": [
    "import pandas as pd\n",
    "\n",
    "# load the data\n",
    "\n",
    "url = \"https://raw.githubusercontent.com/batloon/data-projects/main/coffee_is_happiness/data/coffee_happiness_correlation.csv\"\n",
    "df = pd.read_csv(url)\n",
    "\n",
    "# Display the first rows\n",
    "df.head()"
   ]
  },
  {
   "cell_type": "code",
   "execution_count": null,
   "id": "1cc6617e",
   "metadata": {},
   "outputs": [],
   "source": [
    "# Show columns\n",
    "print(df.columns)\n",
    "\n",
    "# Basic statistics\n",
    "df.describe()\n"
   ]
  },
  {
   "cell_type": "code",
   "execution_count": null,
   "id": "7d6ce52d",
   "metadata": {},
   "outputs": [],
   "source": [
    "# clean the data: delete rows with missing values\n",
    "df = df.dropna()"
   ]
  },
  {
   "cell_type": "code",
   "execution_count": null,
   "id": "49693a82",
   "metadata": {},
   "outputs": [],
   "source": [
    "import matplotlib.pyplot as plt\n",
    "import seaborn as sns\n",
    "\n",
    "plt.figure(figsize=(8,5))\n",
    "sns.scatterplot(x=\"Coffee_Consumption_Per_Capita_KG\", y=\"Happiness_Score\", data=df, color = 'navy', s=60, edgecolor='white')\n",
    "plt.title(\"Coffee Consumption vs Happiness Score\")\n",
    "plt.xlabel(\"Coffee Consumption per person (kg)\")\n",
    "plt.ylabel(\"Happiness Score\")\n",
    "plt.grid(True)\n",
    "plt.show()\n",
    "\n"
   ]
  },
  {
   "cell_type": "code",
   "execution_count": null,
   "id": "36551502",
   "metadata": {},
   "outputs": [],
   "source": [
    "import matplotlib.pyplot as plt\n",
    "import seaborn as sns\n",
    "\n",
    "plt.figure(figsize=(8,5))\n",
    "\n",
    "sns.regplot(\n",
    "    x=\"Coffee_Consumption_Per_Capita_KG\",\n",
    "    y=\"Happiness_Score\",\n",
    "    data=df,\n",
    "    ci=None,  # Hide confidence interval\n",
    "    scatter_kws={'color': 'navy', 's': 60, 'edgecolor': 'white'},  # Color and size of points\n",
    "    line_kws={'color': 'red', 'linewidth': 2}  # Color and width of regression line\n",
    ")\n",
    "\n",
    "plt.title(\"Coffee Consumption vs Happiness Score (with Regression Line)\")\n",
    "plt.xlabel(\"Coffee Consumption per person (kg)\")\n",
    "plt.ylabel(\"Happiness Score\")\n",
    "plt.grid(True)\n",
    "plt.show()\n"
   ]
  },
  {
   "cell_type": "code",
   "execution_count": null,
   "id": "148b1737",
   "metadata": {},
   "outputs": [],
   "source": [
    "# calculate Perason correlation coefficient\n",
    "pearson_correlation = df[\"Coffee_Consumption_Per_Capita_KG\"].corr(df[\"Happiness_Score\"])\n",
    "print(f\"Pearson correlation coefficient: {pearson_correlation:.2f}\")"
   ]
  },
  {
   "cell_type": "code",
   "execution_count": null,
   "id": "688d083f",
   "metadata": {},
   "outputs": [],
   "source": [
    "# calculate Pearson correlation coefficient using the formula\n",
    "def pearson_correlation_f(x, y):\n",
    "    return (x - x.mean()).dot(y - y.mean()) / ((x.std() * y.std()) * len(x))\n",
    "\n",
    "\n",
    "pearson_correlation_manual = pearson_correlation_f(df[\"Coffee_Consumption_Per_Capita_KG\"], df[\"Happiness_Score\"])\n",
    "print(f\"Pearson correlation coefficient (manual): {pearson_correlation_manual:.2f}\")"
   ]
  },
  {
   "cell_type": "code",
   "execution_count": null,
   "id": "3ca618ba",
   "metadata": {},
   "outputs": [],
   "source": [
    "# calculate Spearman correlation coefficient\n",
    "spearman_correlation = df[\"Coffee_Consumption_Per_Capita_KG\"].corr(df[\"Happiness_Score\"], method='spearman')\n",
    "print(f\"Spearman correlation coefficient: {spearman_correlation:.2f}\")"
   ]
  },
  {
   "cell_type": "code",
   "execution_count": null,
   "id": "6d0ae2d8",
   "metadata": {},
   "outputs": [],
   "source": [
    "# calculate Spearman correlation coefficient using the formula\n",
    "def spearman_correlation_f(x, y):\n",
    "    rank_x = x.rank()\n",
    "    rank_y = y.rank()\n",
    "    return pearson_correlation_f(rank_x, rank_y)    \n",
    "\n",
    "spearman_correlation_manual = spearman_correlation_f(df[\"Coffee_Consumption_Per_Capita_KG\"], df[\"Happiness_Score\"])\n",
    "print(f\"Spearman correlation coefficient (manual): {spearman_correlation_manual:.2f}\")"
   ]
  }
 ],
 "metadata": {
  "kernelspec": {
   "display_name": ".venv",
   "language": "python",
   "name": "python3"
  },
  "language_info": {
   "codemirror_mode": {
    "name": "ipython",
    "version": 3
   },
   "file_extension": ".py",
   "mimetype": "text/x-python",
   "name": "python",
   "nbconvert_exporter": "python",
   "pygments_lexer": "ipython3",
   "version": "3.12.3"
  }
 },
 "nbformat": 4,
 "nbformat_minor": 5
}
