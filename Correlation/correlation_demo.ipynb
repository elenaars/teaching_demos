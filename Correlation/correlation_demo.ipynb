{
 "cells": [
  {
   "cell_type": "markdown",
   "id": "5f25e9ba",
   "metadata": {},
   "source": [
    "# Correlation Demo: Coffee & Happiness\n",
    "\n",
    "Welcome!   \n",
    "In this short notebook, we’ll explore how to **measure relationships between variables** using two types of correlation coefficients:\n",
    "\n",
    "- **Pearson correlation (ρ)** – for linear relationships  \n",
    "- **Spearman rank correlation (rₛ)** – for monotonic (ranked) relationships\n",
    "\n",
    "We'll use a fun real-world dataset linking **coffee consumption per capita** with **self-reported happiness scores** across countries.\n",
    "\n",
    "---\n",
    "\n",
    " **What you’ll see:**\n",
    "- A visual overview of the data\n",
    "- Step-by-step calculation of both correlation types\n",
    "- A deeper look at what correlation values actually mean\n",
    "- Manual implementation of Pearson and Spearman formulas\n",
    "\n",
    "---\n",
    "\n",
    "This notebook is intended as a **teaching demo**, originally prepared for a lesson recording.\n",
    "\n",
    "Let’s get started!\n"
   ]
  },
  {
   "cell_type": "markdown",
   "id": "552ebedd",
   "metadata": {},
   "source": [
    "# 1. Load the Dataset\n",
    "\n",
    "We use a publicly available dataset linking **coffee consumption per capita** with **average happiness score** by country.\n",
    "\n",
    "We'll:\n",
    "- Load the dataset directly from a GitHub URL\n",
    "- Preview the first few rows\n",
    "- Inspect the column names and summary statistics\n",
    "- Drop any rows with missing values\n"
   ]
  },
  {
   "cell_type": "code",
   "execution_count": null,
   "id": "86ffa876",
   "metadata": {},
   "outputs": [],
   "source": [
    "import pandas as pd\n",
    "\n",
    "# load the data\n",
    "\n",
    "url = \"https://raw.githubusercontent.com/batloon/data-projects/main/coffee_is_happiness/data/coffee_happiness_correlation.csv\"\n",
    "df = pd.read_csv(url)\n",
    "\n",
    "# Display the first rows\n",
    "df.head()"
   ]
  },
  {
   "cell_type": "code",
   "execution_count": null,
   "id": "1cc6617e",
   "metadata": {},
   "outputs": [],
   "source": [
    "# Show columns\n",
    "print(df.columns)\n",
    "\n",
    "# Basic statistics\n",
    "df.describe()\n"
   ]
  },
  {
   "cell_type": "code",
   "execution_count": null,
   "id": "7d6ce52d",
   "metadata": {},
   "outputs": [],
   "source": [
    "# clean the data: delete rows with missing values\n",
    "df = df.dropna()\n",
    "\n",
    "df.describe()"
   ]
  },
  {
   "cell_type": "markdown",
   "id": "503d2d19",
   "metadata": {},
   "source": [
    "# 2. Visualize the Relationship (Scatter Plot)\n",
    "\n",
    "Let’s plot the data to visually assess whether coffee consumption and happiness appear to be related.\n",
    "\n",
    "We’ll use a scatterplot, where:\n",
    "- The X-axis shows coffee consumption per person (kg/year)\n",
    "- The Y-axis shows the happiness score\n"
   ]
  },
  {
   "cell_type": "code",
   "execution_count": null,
   "id": "49693a82",
   "metadata": {},
   "outputs": [],
   "source": [
    "import matplotlib.pyplot as plt\n",
    "import seaborn as sns\n",
    "\n",
    "plt.figure(figsize=(8,5))\n",
    "sns.scatterplot(x=\"Coffee_Consumption_Per_Capita_KG\", y=\"Happiness_Score\", data=df, color = 'navy', s=60, edgecolor='white')\n",
    "plt.title(\"Coffee Consumption vs Happiness Score\")\n",
    "plt.xlabel(\"Coffee Consumption per person (kg/year)\")\n",
    "plt.ylabel(\"Happiness Score\")\n",
    "plt.grid(True)\n",
    "plt.show()\n",
    "\n"
   ]
  },
  {
   "cell_type": "markdown",
   "id": "f5d90ae5",
   "metadata": {},
   "source": [
    "# Scatter Plot with Regression Line\n",
    "\n",
    "We now add a **linear regression line** to the scatterplot using `seaborn.regplot`.\n",
    "\n",
    "This helps visualize whether the relationship is approximately linear, which is important for interpreting the **Pearson correlation** later.\n"
   ]
  },
  {
   "cell_type": "code",
   "execution_count": null,
   "id": "36551502",
   "metadata": {},
   "outputs": [],
   "source": [
    "import matplotlib.pyplot as plt\n",
    "import seaborn as sns\n",
    "\n",
    "plt.figure(figsize=(8,5))\n",
    "\n",
    "sns.regplot(\n",
    "    x=\"Coffee_Consumption_Per_Capita_KG\",\n",
    "    y=\"Happiness_Score\",\n",
    "    data=df,\n",
    "    ci=None,  # Hide confidence interval\n",
    "    scatter_kws={'color': 'navy', 's': 60, 'edgecolor': 'white'},  # Color and size of points\n",
    "    line_kws={'color': 'red', 'linewidth': 2}  # Color and width of regression line\n",
    ")\n",
    "\n",
    "plt.title(\"Coffee Consumption vs Happiness Score (with Regression Line)\")\n",
    "plt.xlabel(\"Coffee Consumption per person (kg/year)\")\n",
    "plt.ylabel(\"Happiness Score\")\n",
    "plt.grid(True)\n",
    "plt.show()\n"
   ]
  },
  {
   "cell_type": "markdown",
   "id": "45a0d9a8",
   "metadata": {},
   "source": [
    "# 3. Pearson Correlation Coefficient (ρ)\n",
    "\n",
    "Pearson's ρ measures **how well a linear equation describes the relationship** between two variables.\n",
    "\n",
    "It ranges from **–1** (perfect negative linear relationship) to **+1** (perfect positive linear relationship).  \n",
    "A value close to **0** suggests no linear correlation.\n"
   ]
  },
  {
   "cell_type": "code",
   "execution_count": null,
   "id": "148b1737",
   "metadata": {},
   "outputs": [],
   "source": [
    "# calculate Perason correlation coefficient\n",
    "pearson_correlation = df[\"Coffee_Consumption_Per_Capita_KG\"].corr(df[\"Happiness_Score\"])\n",
    "print(f\"Pearson correlation coefficient: {pearson_correlation:.2f}\")"
   ]
  },
  {
   "cell_type": "markdown",
   "id": "28b2d9aa",
   "metadata": {},
   "source": [
    "# Pearson Correlation: Manual Calculation\n",
    "\n",
    "Let’s manually compute Pearson’s correlation using its mathematical formula:\n",
    "\n",
    "$$\n",
    "\\rho = \\frac{\\text{cov}(X, Y)}{\\sigma_X \\cdot \\sigma_Y}\n",
    "$$\n",
    "\n",
    "This helps understand what Python libraries do under the hood.\n"
   ]
  },
  {
   "cell_type": "code",
   "execution_count": null,
   "id": "688d083f",
   "metadata": {},
   "outputs": [],
   "source": [
    "# calculate Pearson correlation coefficient using the formula\n",
    "def pearson_correlation_f(x, y):\n",
    "    return (x - x.mean()).dot(y - y.mean()) / ((x.std() * y.std()) * len(x))\n",
    "\n",
    "\n",
    "pearson_correlation_manual = pearson_correlation_f(df[\"Coffee_Consumption_Per_Capita_KG\"], df[\"Happiness_Score\"])\n",
    "print(f\"Pearson correlation coefficient (manual): {pearson_correlation_manual:.2f}\")"
   ]
  },
  {
   "cell_type": "markdown",
   "id": "bbf6ba30",
   "metadata": {},
   "source": [
    "# 4. Spearman Rank Correlation (rₛ)\n",
    "\n",
    "Spearman’s rₛ is similar to Pearson’s ρ, but instead of using raw values, it uses **ranks**.\n",
    "\n",
    "It is useful when the relationship is **monotonic but not linear**, and it’s **more robust to outliers**.\n"
   ]
  },
  {
   "cell_type": "code",
   "execution_count": null,
   "id": "3ca618ba",
   "metadata": {},
   "outputs": [],
   "source": [
    "# calculate Spearman correlation coefficient\n",
    "spearman_correlation = df[\"Coffee_Consumption_Per_Capita_KG\"].corr(df[\"Happiness_Score\"], method='spearman')\n",
    "print(f\"Spearman correlation coefficient: {spearman_correlation:.2f}\")"
   ]
  },
  {
   "cell_type": "markdown",
   "id": "333156d7",
   "metadata": {},
   "source": [
    "# Spearman Correlation: Manual Calculation\n",
    "\n",
    "Here we calculate Spearman’s correlation manually by:\n",
    "1. Ranking both variables\n",
    "2. Applying the Pearson formula to the **ranked data**\n",
    "\n",
    "This demonstrates how Spearman is just **Pearson on ranks**.\n"
   ]
  },
  {
   "cell_type": "code",
   "execution_count": null,
   "id": "6d0ae2d8",
   "metadata": {},
   "outputs": [],
   "source": [
    "# calculate Spearman correlation coefficient using the formula\n",
    "def spearman_correlation_f(x, y):\n",
    "    rank_x = x.rank()\n",
    "    rank_y = y.rank()\n",
    "    return pearson_correlation_f(rank_x, rank_y)    \n",
    "\n",
    "spearman_correlation_manual = spearman_correlation_f(df[\"Coffee_Consumption_Per_Capita_KG\"], df[\"Happiness_Score\"])\n",
    "print(f\"Spearman correlation coefficient (manual): {spearman_correlation_manual:.2f}\")"
   ]
  }
 ],
 "metadata": {
  "kernelspec": {
   "display_name": ".venv",
   "language": "python",
   "name": "python3"
  },
  "language_info": {
   "codemirror_mode": {
    "name": "ipython",
    "version": 3
   },
   "file_extension": ".py",
   "mimetype": "text/x-python",
   "name": "python",
   "nbconvert_exporter": "python",
   "pygments_lexer": "ipython3",
   "version": "3.12.3"
  }
 },
 "nbformat": 4,
 "nbformat_minor": 5
}
